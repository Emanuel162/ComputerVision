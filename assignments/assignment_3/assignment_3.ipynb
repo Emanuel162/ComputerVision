{
 "nbformat": 4,
 "nbformat_minor": 0,
 "metadata": {
  "colab": {
   "provenance": []
  },
  "kernelspec": {
   "name": "python3",
   "language": "python",
   "display_name": "Python 3 (ipykernel)"
  },
  "language_info": {
   "name": "python"
  }
 },
 "cells": [
  {
   "cell_type": "markdown",
   "source": [
    "## Introduction"
   ],
   "metadata": {
    "id": "Cx54MfzHiWpA"
   }
  },
  {
   "cell_type": "markdown",
   "source": [
    "In this assignment you will implement a Bag Of Visual Words classifier for the Caltech101 dataset, using Histogram of Oriented Gradients as keypoint descriptor.\n",
    "\n",
    "As seen in the lectures, the approach consists of the following steps:\n",
    "1. Building a dictionary of visual words:\n",
    "  - Find all the corners of the training dataset.\n",
    "  - Extract image patches centred at the found keypoints.\n",
    "  - Compute the HOG descriptor of each patch.\n",
    "  - Traing a K-means clustering on all the features.\n",
    "2. Building the BOVW datasets. Since each image will be represented as a histogram of visual words, for each image in the dataset you will have to:\n",
    "  - Find the corners, extract image patches, compute their HOG descriptors.\n",
    "  - Apply the trained k-means on the features to predict their corresponding centroids.\n",
    "  - Summarize the image as a histogram of the predicted centroids.\n",
    "3. Training the histogram classifier."
   ],
   "metadata": {
    "id": "5ei-b4cTim9m"
   }
  },
  {
   "cell_type": "markdown",
   "source": [
    "## Part 1. Implementation of corner detection and description."
   ],
   "metadata": {
    "id": "kncW-mUkirX7"
   }
  },
  {
   "cell_type": "markdown",
   "source": [
    "### Harris corner detection\n",
    "The Harris response image $R$ of an image is given by:\n",
    "\n",
    "$$\n",
    "R = det(M) - k \\ trace(M)^2\n",
    "$$\n",
    "\n",
    "where $k$ is a pre-determined constant (a typical value is k=0.04) and $M$ is the so called \"structure tensor\", given by:\n",
    "\n",
    "$$\n",
    "M =\n",
    "\\begin{bmatrix}\n",
    "    w \\star (I_x^2) & w \\star (I_x I_y) \\\\\n",
    "     w \\star (I_x I_y) &  w \\star (I_y^2)\n",
    "\\end{bmatrix}\n",
    "$$\n",
    "\n",
    "where $I_x$ and $I_y$ are the spatial partial derivatives of the image (for example, computed with a Sobel filter) and $w$ is a convolution kernel used as weighting window (for example, a Gaussian blur with a 5x5 kernel).\n",
    "\n",
    "Since $M$ is 2x2, the determinant and trace can be easily calculated:\n",
    "\n",
    "$$\n",
    "\\begin{align*}\n",
    "det(M) &= M_{00} M_{11} - M_{01} M_{10} \\\\\n",
    "trace(M) &= M_{00} + M_{11}\n",
    "\\end{align*}\n",
    "$$\n",
    "\n",
    "\n",
    "Large values of the response at a given pixel correspond to large values in the eigenvalues of the covariance matrix of the image gradients in the neighborhood of the given pixel. Meaning, large values in the response at a given pixel identify that pixel as a corner.\n",
    "\n",
    "**1 Implement a function that computes the Harris response of an image:**\n",
    "  - Compute the Sobel derivatives $I_x$ and $I_y$\n",
    "  - Compute $I^2_x , I^2_y, I_x I_y$. Note that these are elementwise multiplications, not matrix multiplications.\n",
    "  - Apply Gaussian blur to $I^2_x , I^2_y, I_x I_y$\n",
    "  - Compute and return $R$. Use the given determinant and trace formulas. Again, note that the products in the determinant formula are elementwise products and not matrix products.\n",
    "\n",
    "**2 Implement a corner detection function based on the Harris response.** The function should:\n",
    "  - Identify a corner if the response at the pixel is bigger than some threshold.\n",
    "  - Implement Non-Maximum-Supression, since a single keypoint may be detected by many neighboring pixels. If there are keypoints separated by a distance smaller than `d`,only the pixel with the strongest response should remain.\n",
    "  - Return the coordinates of the detected keypoints.\n",
    "\n",
    "Show the result of your corner detector applied on some image and identifying the detected keypoints.\n",
    "\n",
    "**You can only use numpy and opencv for the implementations**"
   ],
   "metadata": {
    "id": "uLoNb8YFxJtB"
   }
  },
  {
   "cell_type": "code",
   "source": [
    "import cv2 as opencv\n",
    "import numpy as np\n",
    "\n",
    "def compute_harris_response(img, k=0.04):\n",
    "  grad_x = opencv.Sobel(img, opencv.CV_64F, 1, 0)\n",
    "  grad_y = opencv.Sobel(img, opencv.CV_64F, 0, 1)\n",
    "\n",
    "  ix_squared = np.multiply(grad_x, grad_x)\n",
    "  ix_iy = np.multiply(grad_x, grad_y)\n",
    "  iy_squared = np.multiply(grad_y, grad_y)\n",
    "  \n",
    "  ix_squared_blurred = opencv.GaussianBlur(ix_squared,(5,5), opencv.CV_64F)\n",
    "  ix_iy_blurred = opencv.GaussianBlur(ix_iy,(5,5), opencv.CV_64F)\n",
    "  iy_squared_blurred = opencv.GaussianBlur(iy_squared,(5,5), opencv.CV_64F)\n",
    "  \n",
    "  determinant = np.multiply(ix_squared_blurred, iy_squared_blurred) - np.multiply(ix_iy_blurred, ix_iy_blurred)\n",
    "  trace = np.add(ix_squared_blurred, iy_squared_blurred)\n",
    "  return determinant -k*trace\n",
    "  \n",
    "def find_keypoints(img, response_threshold, d=10):\n",
    "    corners = np.zeros(img.shape)\n",
    "    for rowIdx, row in enumerate(img):\n",
    "        for pixelIdx, pixel in enumerate(row):\n",
    "            if np.sum(corners[(rowIdx-d//2):(rowIdx+d//2),(pixelIdx-d//2):(pixelIdx+d//2)]) == 0 and (pixel > response_threshold):\n",
    "                corners[rowIdx][pixelIdx] = 255\n",
    "    return corners"
   ],
   "metadata": {
    "id": "Ov0fsOSwopsG",
    "ExecuteTime": {
     "end_time": "2024-06-20T09:59:17.449496500Z",
     "start_time": "2024-06-20T09:59:15.563547100Z"
    }
   },
   "execution_count": 1,
   "outputs": []
  },
  {
   "cell_type": "code",
   "execution_count": 2,
   "outputs": [
    {
     "data": {
      "text/plain": "<Figure size 640x480 with 1 Axes>",
      "image/png": "[encoded data removed]"
     },
     "metadata": {},
     "output_type": "display_data"
    }
   ],
   "source": [
    "import matplotlib.pyplot as plt\n",
    "\n",
    "image = opencv.imread('pawn.png', opencv.IMREAD_GRAYSCALE)\n",
    "\n",
    "harry = compute_harris_response(image)\n",
    "corners = find_keypoints(harry, np.max(harry)*0.00000001)\n",
    "\n",
    "plt.imshow(corners, cmap='gray')\n",
    "plt.title('Harrys Corners')\n",
    "plt.show()"
   ],
   "metadata": {
    "collapsed": false,
    "ExecuteTime": {
     "end_time": "2024-06-20T09:59:24.668377700Z",
     "start_time": "2024-06-20T09:59:19.709705300Z"
    }
   }
  },
  {
   "cell_type": "markdown",
   "source": [
    "\n",
    "### Histogram of Oriented Gradients\n",
    "\n",
    "**3 Implement a function that given an image patch, returns its HOG descriptor.** The function should:\n",
    "- Compute the Sobel derivatives of the image patch. Compute the derivatives magnitudes and orientations. Make sure that the orientations lie in the range  [0, 2pi).\n",
    "- Divide the patch into a `n_cells` x `n_cells` grid.\n",
    "- For each cell of the grid:\n",
    "  - Compute the sum of gradients magnitudes. Divide the gradients magnitudes by this sum.\n",
    "  - Compute a histogram of gradient orientations, weighted by the below calculated magnitudes. The histogram should have `q` bins that divide [0,2pi) in equally spaced intervals.\n",
    "- The HOG descriptor vector is then the concatenation of the `n_cells` x `n_cells` histograms.\n",
    "\n",
    "The descriptor can be upgraded if the image patch is rectified beforehand. An easy way to do this is to subtract the most frequent gradient orientation from all the gradient orientations.\n"
   ],
   "metadata": {
    "id": "b0YF6s_Jook1"
   }
  },
  {
   "cell_type": "code",
   "source": [
    "def compute_hog_descriptor(img_patch, n_cells=4, q=4):\n",
    "    epsilon = 0.0001\n",
    "    grad_x = opencv.Sobel(img_patch, opencv.CV_64F, 1, 0)\n",
    "    grad_y = opencv.Sobel(img_patch, opencv.CV_64F, 0, 1)\n",
    "    \n",
    "    orientations = np.arctan2(grad_y, grad_x) + np.pi\n",
    "    print(f'There are {np.sum(np.where(orientations > 2 * np.pi)[0])} orientations bigger than 2 * PI.')\n",
    "    print(f'There are {np.sum(np.where(orientations < - 2 * np.pi)[0])} orientations tinier than -2 * PI.')\n",
    "    magnitudes = np.sqrt(grad_x ** 2 + grad_y ** 2)\n",
    "    hog_descriptor = []\n",
    "    for rowIdx in range(img_patch.shape[0]//n_cells):\n",
    "        for pixelIdx in range(img_patch.shape[1]//n_cells):\n",
    "             # Compute sum of gradients magnitudes\n",
    "             sum_gradient_magnitudes = np.sum(magnitudes[rowIdx*n_cells-n_cells:rowIdx*n_cells, pixelIdx*n_cells-n_cells:pixelIdx*n_cells])\n",
    "             # Divide gradients magnitudes by the sum\n",
    "             magnitudes[rowIdx*n_cells-n_cells:rowIdx*n_cells, pixelIdx*n_cells-n_cells:pixelIdx*n_cells] = magnitudes[rowIdx*n_cells-n_cells:rowIdx*n_cells, pixelIdx*n_cells-n_cells:pixelIdx*n_cells] / (sum_gradient_magnitudes + epsilon)\n",
    "             intervals = np.linspace(0, 2*np.pi,q)\n",
    "             this_orientations = orientations[rowIdx*n_cells-n_cells:rowIdx*n_cells, pixelIdx*n_cells-n_cells:pixelIdx*n_cells]\n",
    "             this_magnitudes = magnitudes[rowIdx*n_cells-n_cells:rowIdx*n_cells, pixelIdx*n_cells-n_cells:pixelIdx*n_cells]\n",
    "             # Concatenate all histograms of orientations with weighted magnitudes\n",
    "             hog_descriptor.append(np.asarray(np.histogram(this_orientations, intervals, weights=this_magnitudes)[0]))\n",
    "             # Further information for one specific example\n",
    "             if rowIdx == 50 and pixelIdx == 34:\n",
    "                 print(f'--- rowIdx == 50 and pixelIdx == 34 ---')\n",
    "                 print(\"this_orientations\")\n",
    "                 print(this_orientations)\n",
    "                 print(\"this_magnitudes\")\n",
    "                 print(this_magnitudes)\n",
    "                 print(\"Weighted Histogram\")\n",
    "                 print(np.histogram(this_orientations, intervals, weights=this_magnitudes))\n",
    "                 plt.hist(this_orientations, intervals, weights=this_magnitudes)\n",
    "                 plt.show()\n",
    "    # plt.imshow(magnitudes, cmap='grey')\n",
    "    # plt.show()\n",
    "\n",
    "    return np.asarray(hog_descriptor).flatten()\n",
    "\n",
    "hog_descriptor = compute_hog_descriptor(image)\n"
   ],
   "metadata": {
    "id": "C_9F4at1q0NV",
    "ExecuteTime": {
     "end_time": "2024-06-20T10:14:50.271332300Z",
     "start_time": "2024-06-20T10:14:47.823790500Z"
    }
   },
   "execution_count": 10,
   "outputs": [
    {
     "name": "stdout",
     "output_type": "stream",
     "text": [
      "There are 0 orientations bigger than 2 * PI.\n",
      "There are 0 orientations tinier than -2 * PI.\n",
      "--- rowIdx == 50 and pixelIdx == 34 ---\n",
      "this_orientations\n",
      "[[3.4180075  3.41360481 3.46647309 3.92699082]\n",
      " [3.42036677 3.42035138 3.56739642 2.35619449]\n",
      " [3.42402338 3.42878009 3.73779179 2.35619449]\n",
      " [3.43031283 3.46475763 4.06888787 3.14159265]]\n",
      "this_magnitudes\n",
      "[[0.09004008 0.13795709 0.05547952 0.00135898]\n",
      " [0.11922984 0.12322743 0.02758494 0.00019414]\n",
      " [0.13693728 0.09547437 0.00929036 0.00058242]\n",
      " [0.13933845 0.0613832  0.00137278 0.00054911]]\n",
      "Weighted Histogram\n",
      "(array([0.        , 0.99999999, 0.        ]), array([0.        , 2.0943951 , 4.1887902 , 6.28318531]))\n"
     ]
    },
    {
     "data": {
      "text/plain": "<Figure size 640x480 with 1 Axes>",
      "image/png": "[encoded data removed]"
     },
     "metadata": {},
     "output_type": "display_data"
    },
    {
     "name": "stdout",
     "output_type": "stream",
     "text": [
      "[527.41480194 323.08098443 537.50150587]\n"
     ]
    }
   ]
  },
  {
   "cell_type": "markdown",
   "source": [
    "## Part 2. Build and train a BOVW classifier"
   ],
   "metadata": {
    "id": "Sqz52HaZi2yB"
   }
  },
  {
   "cell_type": "markdown",
   "source": [
    "First lets download the dataset and split it into a train and test set. We will not use the complete dataset but pick a smaller subset of classes"
   ],
   "metadata": {
    "id": "sNvQgMXBqyE8"
   }
  },
  {
   "cell_type": "code",
   "source": [
    "import os\n",
    "import sklearn\n",
    "import urllib.request\n",
    "import tarfile\n",
    "import zipfile\n",
    "import numpy as np\n",
    "\n",
    "from sklearn.model_selection import train_test_split\n",
    "\n",
    "# download dataset\n",
    "filename = 'caltech-101.zip'\n",
    "if not os.path.exists(filename):\n",
    "    url = 'https://data.caltech.edu/records/mzrjq-6wc02/files/caltech-101.zip'\n",
    "    urllib.request.urlretrieve(url, filename)\n",
    "\n",
    "    # extract files\n",
    "    with zipfile.ZipFile(filename, 'r') as zip_ref:\n",
    "        zip_ref.extractall('./')\n",
    "\n",
    "    with tarfile.open('./caltech-101/101_ObjectCategories.tar.gz', \"r:gz\") as tar:\n",
    "      tar.extractall()\n",
    "\n",
    "# load with sklearn\n",
    "ds_path = './101_ObjectCategories'\n",
    "ds = sklearn.datasets.load_files(ds_path, allowed_extensions=['.jpg'], load_content=False)\n",
    "fns = ds['filenames']\n",
    "tgts = ds['target']\n",
    "\n",
    "# take some classes\n",
    "filtered_classes = ['faces', 'leopards', 'motorbikes', 'airplanes', 'ketch', 'schooner']\n",
    "\n",
    "# get class ids by name\n",
    "class_names = np.char.lower(ds['target_names'])\n",
    "sorter = np.argsort(class_names)\n",
    "cs = sorter[np.searchsorted(class_names, filtered_classes, sorter=sorter)]\n",
    "\n",
    "idcs = list(map(lambda x: x in cs, tgts))\n",
    "tgts = tgts[idcs]\n",
    "fns = fns[idcs]\n",
    "\n",
    "# filenames and labels for the train and test set images\n",
    "fns_train, fns_test, y_train, y_test = train_test_split(fns, tgts, stratify=tgts,test_size=.20, random_state=42)"
   ],
   "metadata": {
    "id": "xnTa0itIyXGh",
    "ExecuteTime": {
     "start_time": "2024-06-19T19:18:07.421287700Z"
    }
   },
   "execution_count": null,
   "outputs": []
  },
  {
   "cell_type": "markdown",
   "source": [
    "**4 Build the visual words dictionary:**\n",
    "- Find all the keypoints in the training dataset\n",
    "- Extract patches of some pre-defined size (e.g. 32 pixels of side) centred at the keypoints\n",
    "- Compute the HOG descriptor of each image patch.\n",
    "- Train a k-means clustering on the complete set of descriptors (for example, with k=8). Try different values of k.\n",
    "\n",
    "**5 Train a Support Vector Machine classifier.**\n",
    "- First, convert all the images of the dataset into their bag of visual words representation. Given an input image:\n",
    "  - Find the corners, extract image patches, compute their HOG descriptors.\n",
    "  - Apply the trained k-means on the features to predict their corresponding centroids.\n",
    "  - Summarize the image as a histogram of the predicted centroids.\n",
    "- Train a Support Vector Machine classifier using the BOVW representations of the images.\n",
    "  - Use the $\\chi^2$ kernel as kernel function. Make sure that the `gamma` parameter is correctly set as this influences classification performance.\n",
    "\n",
    "**6 Report the results.**\n",
    "- Report classification metrics on the test set and plot the confusion matrix.\n",
    "- Please describe the reported metrices and the confusion matrix. What are your conclusions?\n",
    "\n",
    "**Notes**\n",
    "- Use `sklearn`'s k-means and Support Vector Machine for this exercise. Additionally, you can use any other functionality of `sklearn` if you require.\n",
    "- Caltech101 images come in different size and shapes. Before finding keypoints, you could pre-process each image for example by resizing them to a smaller shape, as big images take longer to process.\n",
    "- Throughout the assignment you had to make some design choices by picking _hyperparameters_ of your algorithm: the detector's NMS distance, HOG's `n_cells` and `q`, the keypoints' patch size, k-means' k, the kernel function's gamma, the pre-processing function, etc. These values have an effect on the classifier's performance, both in training/inference speed and in the classification metrics. **You should try out different values in order to maximize the algorithm's performance.**"
   ],
   "metadata": {
    "id": "8YD4EQVfV-3D"
   }
  },
  {
   "cell_type": "code",
   "execution_count": null,
   "outputs": [],
   "source": [],
   "metadata": {
    "collapsed": false,
    "ExecuteTime": {
     "start_time": "2024-06-19T19:18:07.421287700Z"
    }
   }
  }
 ]
}
